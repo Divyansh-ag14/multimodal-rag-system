{
 "cells": [
  {
   "cell_type": "markdown",
   "metadata": {},
   "source": [
    "## **Project Overview**\n",
    "\n",
    "The restaurant aggregator industry is becoming increasingly reliant on sophisticated technology solutions to stay competitive in the fast-paced food delivery market. In this context, providing users with highly personalized and contextually relevant food recommendations is crucial for enhancing user experience and fostering brand loyalty. Traditional recommendation systems, predominantly based on textual data, often fail to capture the comprehensive and nuanced preferences of users, especially when it comes to visual appeal and presentation of dishes. A multimodal approach that incorporates both text and images can vastly improve the accuracy and personalization of recommendations.\n",
    "\n",
    "This project aims to design and implement a Multimodal Retrieval-Augmented Generation (RAG) system for a restaurant aggregator app, enhancing its capability to deliver precise food recommendations tailored to individual preferences and dietary needs. The system will integrate and process multiple data types—textual descriptions and visual content—from restaurants to generate personalized suggestions. Utilizing technologies such as Amazon S3 for data storage, Amazon Bedrock for image summarization, and FAISS for efficient similarity search, the system will encode and retrieve vectorized data representations. A user interface powered by Streamlit will facilitate interactive and user-friendly querying, ultimately leading to dynamic and context-aware recommendation generation. "
   ]
  },
  {
   "cell_type": "markdown",
   "metadata": {},
   "source": [
    "## **Approach**\n",
    "\n",
    "* Data Reading and Preprocessing:\n",
    "    * Data Storage: Utilize Amazon S3 for scalable and reliable object storage of the collected data and read the images and metadata.\n",
    "\n",
    "* Data Processing:\n",
    "    * Image Data: Use Anthropic Claude-Sonnet model to generate image descriptions \n",
    "\n",
    "* Vector Database:\n",
    "    * Storage and Retrieval: Use Amazon Titan Embeddings and FAISS for storing and efficiently retrieving vectorized data, enabling fast and scalable search capabilities for the recommendation engine.\n",
    "\n",
    "* Recommendation Engine: \n",
    "    * Utilizing Anthropic Claude Sonnet Multimodal Model: To create conversational chatbot and generate recommendations from Vector DB results.\n",
    "\n",
    "* Streamlit API Development and Integration:\n",
    "    * User Interface: Develop an interactive user interface using Streamlit, which will serve the frontend for users to interact with the system.\n",
    "    * Functionalities: Users will be able to interact with the chatbot to search text or image inputs.\n"
   ]
  },
  {
   "cell_type": "markdown",
   "metadata": {},
   "source": [
    "## **Solution Architecture**\n",
    "\n",
    "![image](reference-images/notebook/architecture.png)"
   ]
  },
  {
   "cell_type": "markdown",
   "metadata": {},
   "source": [
    "## **Multimodal Data**\n",
    "\n",
    "Multimodal data refers to information collected in various forms, including text, images, audio, video, and even sensor data, which are integrated and analyzed together to enhance the performance of artificial intelligence (AI) systems. This integration allows AI models to process and understand complex scenarios more like humans do, by interpreting different types of data concurrently. The significance of multimodal data in real-world applications is profound, enabling more nuanced and context-aware AI solutions. For example, in healthcare, multimodal data can combine medical images, patient records, and doctor's audio notes to improve diagnostic accuracy. In customer service, text from chat interactions, voice data from calls, and video data can be analyzed together to enhance response quality and service personalization. The ability to merge and interpret this varied data leads to richer insights and more effective AI applications across diverse fields.\n",
    "\n",
    "![image](reference-images/notebook/modalities.png)"
   ]
  },
  {
   "cell_type": "markdown",
   "metadata": {},
   "source": [
    "## Importing Libraries"
   ]
  },
  {
   "cell_type": "code",
   "execution_count": 7,
   "metadata": {},
   "outputs": [],
   "source": [
    "import pandas as pd\n",
    "import boto3\n",
    "from utils import *\n",
    "import base64\n",
    "import os\n",
    "from io import StringIO\n",
    "import warnings\n",
    "warnings.filterwarnings('ignore')"
   ]
  },
  {
   "cell_type": "markdown",
   "metadata": {},
   "source": [
    "## Data Fetch"
   ]
  },
  {
   "cell_type": "code",
   "execution_count": 8,
   "metadata": {},
   "outputs": [],
   "source": [
    "# Initialize a session using Amazon S3\n",
    "s3_client = boto3.client('s3', region_name='your-region', \n",
    "                         aws_access_key_id='your-access-key-id', \n",
    "                         aws_secret_access_key='your-secret-access-key')"
   ]
  },
  {
   "cell_type": "code",
   "execution_count": 9,
   "metadata": {},
   "outputs": [],
   "source": [
    "s3_client = boto3.client('s3', region_name='ap-south-1')"
   ]
  },
  {
   "cell_type": "code",
   "execution_count": 10,
   "metadata": {},
   "outputs": [],
   "source": [
    "def fetch_csv_from_s3(bucket_name, file_key):\n",
    "    \"\"\"\n",
    "    Fetches a CSV file from S3 and converts it into a Pandas DataFrame.\n",
    "    \n",
    "    :param bucket_name: Name of the S3 bucket\n",
    "    :param file_key: Key (path) to the CSV file in the bucket\n",
    "    :return: DataFrame containing the CSV data\n",
    "    \"\"\"\n",
    "    # Fetch the CSV file from S3\n",
    "    response = s3_client.get_object(Bucket=bucket_name, Key=file_key)\n",
    "    \n",
    "    # Read the CSV file content\n",
    "    csv_content = response['Body'].read().decode('utf-8')\n",
    "    \n",
    "    # Use StringIO to convert the CSV string into a file-like object\n",
    "    csv_buffer = StringIO(csv_content)\n",
    "    \n",
    "    # Load the CSV data into a DataFrame\n",
    "    df = pd.read_csv(csv_buffer)\n",
    "    \n",
    "    return df"
   ]
  },
  {
   "cell_type": "code",
   "execution_count": 11,
   "metadata": {},
   "outputs": [
    {
     "data": {
      "text/html": [
       "<div>\n",
       "<style scoped>\n",
       "    .dataframe tbody tr th:only-of-type {\n",
       "        vertical-align: middle;\n",
       "    }\n",
       "\n",
       "    .dataframe tbody tr th {\n",
       "        vertical-align: top;\n",
       "    }\n",
       "\n",
       "    .dataframe thead th {\n",
       "        text-align: right;\n",
       "    }\n",
       "</style>\n",
       "<table border=\"1\" class=\"dataframe\">\n",
       "  <thead>\n",
       "    <tr style=\"text-align: right;\">\n",
       "      <th></th>\n",
       "      <th>restaurant_id</th>\n",
       "      <th>restaurant_name</th>\n",
       "      <th>cuisine</th>\n",
       "      <th>menu_item_id</th>\n",
       "      <th>menu_item_name</th>\n",
       "      <th>ingredients</th>\n",
       "      <th>protein</th>\n",
       "      <th>carbs</th>\n",
       "      <th>fats</th>\n",
       "      <th>calories</th>\n",
       "      <th>dietary_warnings</th>\n",
       "      <th>vegetarian_or_nonveg</th>\n",
       "      <th>image_path</th>\n",
       "      <th>average_rating</th>\n",
       "      <th>price</th>\n",
       "      <th>serves</th>\n",
       "    </tr>\n",
       "  </thead>\n",
       "  <tbody>\n",
       "    <tr>\n",
       "      <th>0</th>\n",
       "      <td>R001</td>\n",
       "      <td>La Bella Italia</td>\n",
       "      <td>Italian</td>\n",
       "      <td>R001M001</td>\n",
       "      <td>Margherita Pizza</td>\n",
       "      <td>tomatoes, mozzarella cheese, basil, olive oil,...</td>\n",
       "      <td>12</td>\n",
       "      <td>30</td>\n",
       "      <td>15</td>\n",
       "      <td>350</td>\n",
       "      <td>NaN</td>\n",
       "      <td>Vegetarian</td>\n",
       "      <td>images/R001/R001M001.png</td>\n",
       "      <td>4.5</td>\n",
       "      <td>12</td>\n",
       "      <td>1-2</td>\n",
       "    </tr>\n",
       "    <tr>\n",
       "      <th>1</th>\n",
       "      <td>R001</td>\n",
       "      <td>La Bella Italia</td>\n",
       "      <td>Italian</td>\n",
       "      <td>R001M002</td>\n",
       "      <td>Spaghetti Carbonara</td>\n",
       "      <td>spaghetti, eggs, cheese, pancetta, black pepper</td>\n",
       "      <td>18</td>\n",
       "      <td>40</td>\n",
       "      <td>20</td>\n",
       "      <td>400</td>\n",
       "      <td>Contains eggs, Contains dairy</td>\n",
       "      <td>Non-Vegetarian</td>\n",
       "      <td>images/R001/R001M002.png</td>\n",
       "      <td>4.0</td>\n",
       "      <td>10</td>\n",
       "      <td>1-2</td>\n",
       "    </tr>\n",
       "    <tr>\n",
       "      <th>2</th>\n",
       "      <td>R001</td>\n",
       "      <td>La Bella Italia</td>\n",
       "      <td>Italian</td>\n",
       "      <td>R001M003</td>\n",
       "      <td>Lasagna</td>\n",
       "      <td>pasta sheets, ground beef, ricotta cheese, moz...</td>\n",
       "      <td>25</td>\n",
       "      <td>35</td>\n",
       "      <td>22</td>\n",
       "      <td>450</td>\n",
       "      <td>Contains dairy</td>\n",
       "      <td>Non-Vegetarian</td>\n",
       "      <td>images/R001/R001M003.png</td>\n",
       "      <td>4.6</td>\n",
       "      <td>16</td>\n",
       "      <td>1-2</td>\n",
       "    </tr>\n",
       "    <tr>\n",
       "      <th>3</th>\n",
       "      <td>R001</td>\n",
       "      <td>La Bella Italia</td>\n",
       "      <td>Italian</td>\n",
       "      <td>R001M004</td>\n",
       "      <td>Bruschetta</td>\n",
       "      <td>bread, tomatoes, garlic, basil, olive oil</td>\n",
       "      <td>4</td>\n",
       "      <td>15</td>\n",
       "      <td>5</td>\n",
       "      <td>120</td>\n",
       "      <td>NaN</td>\n",
       "      <td>Vegetarian</td>\n",
       "      <td>images/R001/R001M004.png</td>\n",
       "      <td>3.8</td>\n",
       "      <td>8</td>\n",
       "      <td>1</td>\n",
       "    </tr>\n",
       "    <tr>\n",
       "      <th>4</th>\n",
       "      <td>R001</td>\n",
       "      <td>La Bella Italia</td>\n",
       "      <td>Italian</td>\n",
       "      <td>R001M005</td>\n",
       "      <td>Tiramisu</td>\n",
       "      <td>ladyfingers, coffee, mascarpone cheese, cocoa ...</td>\n",
       "      <td>6</td>\n",
       "      <td>25</td>\n",
       "      <td>15</td>\n",
       "      <td>300</td>\n",
       "      <td>Contains dairy, Contains eggs</td>\n",
       "      <td>Vegetarian</td>\n",
       "      <td>images/R001/R001M005.png</td>\n",
       "      <td>3.1</td>\n",
       "      <td>12</td>\n",
       "      <td>1</td>\n",
       "    </tr>\n",
       "  </tbody>\n",
       "</table>\n",
       "</div>"
      ],
      "text/plain": [
       "  restaurant_id  restaurant_name  cuisine menu_item_id       menu_item_name  \\\n",
       "0          R001  La Bella Italia  Italian     R001M001     Margherita Pizza   \n",
       "1          R001  La Bella Italia  Italian     R001M002  Spaghetti Carbonara   \n",
       "2          R001  La Bella Italia  Italian     R001M003              Lasagna   \n",
       "3          R001  La Bella Italia  Italian     R001M004           Bruschetta   \n",
       "4          R001  La Bella Italia  Italian     R001M005             Tiramisu   \n",
       "\n",
       "                                         ingredients  protein  carbs  fats  \\\n",
       "0  tomatoes, mozzarella cheese, basil, olive oil,...       12     30    15   \n",
       "1    spaghetti, eggs, cheese, pancetta, black pepper       18     40    20   \n",
       "2  pasta sheets, ground beef, ricotta cheese, moz...       25     35    22   \n",
       "3          bread, tomatoes, garlic, basil, olive oil        4     15     5   \n",
       "4  ladyfingers, coffee, mascarpone cheese, cocoa ...        6     25    15   \n",
       "\n",
       "   calories               dietary_warnings vegetarian_or_nonveg  \\\n",
       "0       350                            NaN           Vegetarian   \n",
       "1       400  Contains eggs, Contains dairy       Non-Vegetarian   \n",
       "2       450                 Contains dairy       Non-Vegetarian   \n",
       "3       120                            NaN           Vegetarian   \n",
       "4       300  Contains dairy, Contains eggs           Vegetarian   \n",
       "\n",
       "                 image_path  average_rating  price serves  \n",
       "0  images/R001/R001M001.png             4.5     12    1-2  \n",
       "1  images/R001/R001M002.png             4.0     10    1-2  \n",
       "2  images/R001/R001M003.png             4.6     16    1-2  \n",
       "3  images/R001/R001M004.png             3.8      8      1  \n",
       "4  images/R001/R001M005.png             3.1     12      1  "
      ]
     },
     "execution_count": 11,
     "metadata": {},
     "output_type": "execute_result"
    }
   ],
   "source": [
    "# usage\n",
    "bucket_name = 'multimodal-food-recommendation'\n",
    "file_key = 'restaurants_menu_data.csv'\n",
    "\n",
    "df = fetch_csv_from_s3(bucket_name, file_key)\n",
    "\n",
    "# use this code if reading data from local folder\n",
    "# df = pd.read_csv(\"data/restaurants_menu_data.csv\")\n",
    "df.head()"
   ]
  },
  {
   "cell_type": "markdown",
   "metadata": {},
   "source": [
    "## Creating Bedrock Runtime"
   ]
  },
  {
   "cell_type": "code",
   "execution_count": 12,
   "metadata": {},
   "outputs": [],
   "source": [
    "import boto3\n",
    "bedrock = boto3.client('bedrock-runtime')"
   ]
  },
  {
   "cell_type": "code",
   "execution_count": 13,
   "metadata": {},
   "outputs": [],
   "source": [
    "from langchain_community.chat_models import BedrockChat\n",
    "from langchain_community.embeddings import BedrockEmbeddings\n",
    "\n",
    "model_kwargs =  {\n",
    "    \"max_tokens\": 2048,\n",
    "    \"temperature\": 0.0,\n",
    "    \"stop_sequences\": [\"\\n\\nHuman\"],\n",
    "}\n",
    "\n",
    "llm = BedrockChat(\n",
    "    client=bedrock,\n",
    "    model_id=\"anthropic.claude-3-sonnet-20240229-v1:0\",\n",
    "    model_kwargs=model_kwargs,\n",
    ")\n",
    "\n",
    "embeddings=BedrockEmbeddings(\n",
    "    client=bedrock,\n",
    "    model_id=\"amazon.titan-embed-text-v2:0\"\n",
    ")"
   ]
  },
  {
   "cell_type": "markdown",
   "metadata": {},
   "source": [
    "## Base64 Encoding"
   ]
  },
  {
   "cell_type": "code",
   "execution_count": 15,
   "metadata": {},
   "outputs": [],
   "source": [
    "def encode_image_from_s3(bucket_name, image_path):\n",
    "    \"\"\"\n",
    "    Fetches an image from S3 and encodes it in base64.\n",
    "\n",
    "    :param bucket_name: The name of the S3 bucket.\n",
    "    :param image_path: The relative path to the image in the S3 bucket.\n",
    "    :return: The base64-encoded string of the image.\n",
    "    \"\"\"\n",
    "    # Fetch the image from S3\n",
    "    response = s3_client.get_object(Bucket=bucket_name, Key=image_path)\n",
    "    \n",
    "    # Read the image content as binary\n",
    "    image_content = response['Body'].read()\n",
    "\n",
    "    # Encode the image content to a base64 string\n",
    "    encoded_image = base64.b64encode(image_content).decode('utf-8')\n",
    "    \n",
    "    return encoded_image"
   ]
  },
  {
   "cell_type": "code",
   "execution_count": 16,
   "metadata": {},
   "outputs": [],
   "source": [
    "# Use this function if you are using images from local folder instead of S3 bucket\n",
    "def encode_image(image_path):\n",
    "    with open(image_path, \"rb\") as f:\n",
    "        return base64.b64encode(f.read()).decode('utf-8')\n",
    "    \n",
    "# df['encoded_image'] = df['image_path'].apply(encode_image)"
   ]
  },
  {
   "cell_type": "code",
   "execution_count": 17,
   "metadata": {},
   "outputs": [],
   "source": [
    "# Create a new column 'encoded_image' by applying the encode_image_from_s3 function\n",
    "df['encoded_image'] = df['image_path'].apply(lambda x: encode_image_from_s3(bucket_name, x))"
   ]
  },
  {
   "cell_type": "code",
   "execution_count": 18,
   "metadata": {},
   "outputs": [
    {
     "data": {
      "text/html": [
       "<div>\n",
       "<style scoped>\n",
       "    .dataframe tbody tr th:only-of-type {\n",
       "        vertical-align: middle;\n",
       "    }\n",
       "\n",
       "    .dataframe tbody tr th {\n",
       "        vertical-align: top;\n",
       "    }\n",
       "\n",
       "    .dataframe thead th {\n",
       "        text-align: right;\n",
       "    }\n",
       "</style>\n",
       "<table border=\"1\" class=\"dataframe\">\n",
       "  <thead>\n",
       "    <tr style=\"text-align: right;\">\n",
       "      <th></th>\n",
       "      <th>restaurant_id</th>\n",
       "      <th>restaurant_name</th>\n",
       "      <th>cuisine</th>\n",
       "      <th>menu_item_id</th>\n",
       "      <th>menu_item_name</th>\n",
       "      <th>ingredients</th>\n",
       "      <th>protein</th>\n",
       "      <th>carbs</th>\n",
       "      <th>fats</th>\n",
       "      <th>calories</th>\n",
       "      <th>dietary_warnings</th>\n",
       "      <th>vegetarian_or_nonveg</th>\n",
       "      <th>image_path</th>\n",
       "      <th>average_rating</th>\n",
       "      <th>price</th>\n",
       "      <th>serves</th>\n",
       "      <th>encoded_image</th>\n",
       "    </tr>\n",
       "  </thead>\n",
       "  <tbody>\n",
       "    <tr>\n",
       "      <th>0</th>\n",
       "      <td>R001</td>\n",
       "      <td>La Bella Italia</td>\n",
       "      <td>Italian</td>\n",
       "      <td>R001M001</td>\n",
       "      <td>Margherita Pizza</td>\n",
       "      <td>tomatoes, mozzarella cheese, basil, olive oil,...</td>\n",
       "      <td>12</td>\n",
       "      <td>30</td>\n",
       "      <td>15</td>\n",
       "      <td>350</td>\n",
       "      <td>NaN</td>\n",
       "      <td>Vegetarian</td>\n",
       "      <td>images/R001/R001M001.png</td>\n",
       "      <td>4.5</td>\n",
       "      <td>12</td>\n",
       "      <td>1-2</td>\n",
       "      <td>iVBORw0KGgoAAAANSUhEUgAABD0AAALJCAYAAAC3J1hNAA...</td>\n",
       "    </tr>\n",
       "  </tbody>\n",
       "</table>\n",
       "</div>"
      ],
      "text/plain": [
       "  restaurant_id  restaurant_name  cuisine menu_item_id    menu_item_name  \\\n",
       "0          R001  La Bella Italia  Italian     R001M001  Margherita Pizza   \n",
       "\n",
       "                                         ingredients  protein  carbs  fats  \\\n",
       "0  tomatoes, mozzarella cheese, basil, olive oil,...       12     30    15   \n",
       "\n",
       "   calories dietary_warnings vegetarian_or_nonveg                image_path  \\\n",
       "0       350              NaN           Vegetarian  images/R001/R001M001.png   \n",
       "\n",
       "   average_rating  price serves  \\\n",
       "0             4.5     12    1-2   \n",
       "\n",
       "                                       encoded_image  \n",
       "0  iVBORw0KGgoAAAANSUhEUgAABD0AAALJCAYAAAC3J1hNAA...  "
      ]
     },
     "execution_count": 18,
     "metadata": {},
     "output_type": "execute_result"
    }
   ],
   "source": [
    "df.head(1)"
   ]
  },
  {
   "cell_type": "code",
   "execution_count": null,
   "metadata": {},
   "outputs": [],
   "source": []
  }
 ],
 "metadata": {
  "kernelspec": {
   "display_name": "env",
   "language": "python",
   "name": "python3"
  },
  "language_info": {
   "codemirror_mode": {
    "name": "ipython",
    "version": 3
   },
   "file_extension": ".py",
   "mimetype": "text/x-python",
   "name": "python",
   "nbconvert_exporter": "python",
   "pygments_lexer": "ipython3",
   "version": "3.10.4"
  }
 },
 "nbformat": 4,
 "nbformat_minor": 2
}
